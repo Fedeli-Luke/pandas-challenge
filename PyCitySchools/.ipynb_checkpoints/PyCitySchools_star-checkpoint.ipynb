{
 "cells": [
  {
   "cell_type": "markdown",
   "metadata": {},
   "source": [
    "### Note\n",
    "* Instructions have been included for each segment. You do not have to follow them exactly, but they are included to help you think through the steps."
   ]
  },
  {
   "cell_type": "code",
   "execution_count": 1,
   "metadata": {},
   "outputs": [
    {
     "data": {
      "text/html": [
       "<div>\n",
       "<style scoped>\n",
       "    .dataframe tbody tr th:only-of-type {\n",
       "        vertical-align: middle;\n",
       "    }\n",
       "\n",
       "    .dataframe tbody tr th {\n",
       "        vertical-align: top;\n",
       "    }\n",
       "\n",
       "    .dataframe thead th {\n",
       "        text-align: right;\n",
       "    }\n",
       "</style>\n",
       "<table border=\"1\" class=\"dataframe\">\n",
       "  <thead>\n",
       "    <tr style=\"text-align: right;\">\n",
       "      <th></th>\n",
       "      <th>Student ID</th>\n",
       "      <th>student_name</th>\n",
       "      <th>gender</th>\n",
       "      <th>grade</th>\n",
       "      <th>school_name</th>\n",
       "      <th>reading_score</th>\n",
       "      <th>math_score</th>\n",
       "      <th>School ID</th>\n",
       "      <th>type</th>\n",
       "      <th>size</th>\n",
       "      <th>budget</th>\n",
       "    </tr>\n",
       "  </thead>\n",
       "  <tbody>\n",
       "    <tr>\n",
       "      <th>0</th>\n",
       "      <td>0</td>\n",
       "      <td>Paul Bradley</td>\n",
       "      <td>M</td>\n",
       "      <td>9th</td>\n",
       "      <td>Huang High School</td>\n",
       "      <td>66</td>\n",
       "      <td>79</td>\n",
       "      <td>0</td>\n",
       "      <td>District</td>\n",
       "      <td>2917</td>\n",
       "      <td>1910635</td>\n",
       "    </tr>\n",
       "    <tr>\n",
       "      <th>1</th>\n",
       "      <td>1</td>\n",
       "      <td>Victor Smith</td>\n",
       "      <td>M</td>\n",
       "      <td>12th</td>\n",
       "      <td>Huang High School</td>\n",
       "      <td>94</td>\n",
       "      <td>61</td>\n",
       "      <td>0</td>\n",
       "      <td>District</td>\n",
       "      <td>2917</td>\n",
       "      <td>1910635</td>\n",
       "    </tr>\n",
       "    <tr>\n",
       "      <th>2</th>\n",
       "      <td>2</td>\n",
       "      <td>Kevin Rodriguez</td>\n",
       "      <td>M</td>\n",
       "      <td>12th</td>\n",
       "      <td>Huang High School</td>\n",
       "      <td>90</td>\n",
       "      <td>60</td>\n",
       "      <td>0</td>\n",
       "      <td>District</td>\n",
       "      <td>2917</td>\n",
       "      <td>1910635</td>\n",
       "    </tr>\n",
       "    <tr>\n",
       "      <th>3</th>\n",
       "      <td>3</td>\n",
       "      <td>Dr. Richard Scott</td>\n",
       "      <td>M</td>\n",
       "      <td>12th</td>\n",
       "      <td>Huang High School</td>\n",
       "      <td>67</td>\n",
       "      <td>58</td>\n",
       "      <td>0</td>\n",
       "      <td>District</td>\n",
       "      <td>2917</td>\n",
       "      <td>1910635</td>\n",
       "    </tr>\n",
       "    <tr>\n",
       "      <th>4</th>\n",
       "      <td>4</td>\n",
       "      <td>Bonnie Ray</td>\n",
       "      <td>F</td>\n",
       "      <td>9th</td>\n",
       "      <td>Huang High School</td>\n",
       "      <td>97</td>\n",
       "      <td>84</td>\n",
       "      <td>0</td>\n",
       "      <td>District</td>\n",
       "      <td>2917</td>\n",
       "      <td>1910635</td>\n",
       "    </tr>\n",
       "  </tbody>\n",
       "</table>\n",
       "</div>"
      ],
      "text/plain": [
       "   Student ID       student_name gender grade        school_name  \\\n",
       "0           0       Paul Bradley      M   9th  Huang High School   \n",
       "1           1       Victor Smith      M  12th  Huang High School   \n",
       "2           2    Kevin Rodriguez      M  12th  Huang High School   \n",
       "3           3  Dr. Richard Scott      M  12th  Huang High School   \n",
       "4           4         Bonnie Ray      F   9th  Huang High School   \n",
       "\n",
       "   reading_score  math_score  School ID      type  size   budget  \n",
       "0             66          79          0  District  2917  1910635  \n",
       "1             94          61          0  District  2917  1910635  \n",
       "2             90          60          0  District  2917  1910635  \n",
       "3             67          58          0  District  2917  1910635  \n",
       "4             97          84          0  District  2917  1910635  "
      ]
     },
     "execution_count": 1,
     "metadata": {},
     "output_type": "execute_result"
    }
   ],
   "source": [
    "# Dependencies and Setup\n",
    "import pandas as pd\n",
    "\n",
    "# File to Load (Remember to Change These)\n",
    "school_data_to_load = \"schools_complete.csv\"\n",
    "student_data_to_load = \"students_complete.csv\"\n",
    "\n",
    "# Read School and Student Data File and store into Pandas DataFrames\n",
    "school_data = pd.read_csv(school_data_to_load)\n",
    "student_data = pd.read_csv(student_data_to_load)\n",
    "\n",
    "df_school_data = school_data\n",
    "df_student_data = student_data\n",
    "\n",
    "# Combine the data into a single dataset.  \n",
    "school_data_complete = pd.merge(student_data, school_data, how=\"left\", on=[\"school_name\", \"school_name\"])\n",
    "df_school_data_complete = school_data_complete\n",
    "school_data_complete.head()"
   ]
  },
  {
   "cell_type": "markdown",
   "metadata": {},
   "source": [
    "## District Summary\n",
    "\n",
    "* Calculate the total number of schools\n",
    "\n",
    "* Calculate the total number of students\n",
    "\n",
    "* Calculate the total budget\n",
    "\n",
    "* Calculate the average math score \n",
    "\n",
    "* Calculate the average reading score\n",
    "\n",
    "* Calculate the percentage of students with a passing math score (70 or greater)\n",
    "\n",
    "* Calculate the percentage of students with a passing reading score (70 or greater)\n",
    "\n",
    "* Calculate the percentage of students who passed math **and** reading (% Overall Passing)\n",
    "\n",
    "* Create a dataframe to hold the above results\n",
    "\n",
    "* Optional: give the displayed data cleaner formatting"
   ]
  },
  {
   "cell_type": "code",
   "execution_count": 6,
   "metadata": {},
   "outputs": [
    {
     "data": {
      "text/html": [
       "<div>\n",
       "<style scoped>\n",
       "    .dataframe tbody tr th:only-of-type {\n",
       "        vertical-align: middle;\n",
       "    }\n",
       "\n",
       "    .dataframe tbody tr th {\n",
       "        vertical-align: top;\n",
       "    }\n",
       "\n",
       "    .dataframe thead th {\n",
       "        text-align: right;\n",
       "    }\n",
       "</style>\n",
       "<table border=\"1\" class=\"dataframe\">\n",
       "  <thead>\n",
       "    <tr style=\"text-align: right;\">\n",
       "      <th></th>\n",
       "      <th>Total_Schools</th>\n",
       "      <th>Total_Student</th>\n",
       "      <th>Total_Budget</th>\n",
       "      <th>Avg_Math_Score</th>\n",
       "      <th>Avg_Reading_Score</th>\n",
       "      <th>%_Passing_Math</th>\n",
       "      <th>%_Passing_Reading</th>\n",
       "      <th>Overall_Passing_Rate</th>\n",
       "    </tr>\n",
       "  </thead>\n",
       "  <tbody>\n",
       "    <tr>\n",
       "      <th>0</th>\n",
       "      <td>15</td>\n",
       "      <td>39170</td>\n",
       "      <td>24649428</td>\n",
       "      <td>78.985371</td>\n",
       "      <td>81.87784</td>\n",
       "      <td>74.980853</td>\n",
       "      <td>85.805463</td>\n",
       "      <td>80.393158</td>\n",
       "    </tr>\n",
       "  </tbody>\n",
       "</table>\n",
       "</div>"
      ],
      "text/plain": [
       "   Total_Schools  Total_Student  Total_Budget  Avg_Math_Score  \\\n",
       "0             15          39170      24649428       78.985371   \n",
       "\n",
       "   Avg_Reading_Score  %_Passing_Math  %_Passing_Reading  Overall_Passing_Rate  \n",
       "0           81.87784       74.980853          85.805463             80.393158  "
      ]
     },
     "execution_count": 6,
     "metadata": {},
     "output_type": "execute_result"
    }
   ],
   "source": [
    "#Count the total number of schools \n",
    "df_total_school_count = df_school_data['school_name'].count()\n",
    "\n",
    "#Sum the total number of students in size column\n",
    "total_student_sum = df_school_data['size'].sum()\n",
    "\n",
    "#Sum the total budget\n",
    "total_district_budget = df_school_data['budget'].sum()\n",
    "\n",
    "#Calculate the average math score using mean\n",
    "average_math_score = df_school_data_complete['math_score'].mean()\n",
    "\n",
    "#Calculate the average math score\n",
    "average_reading_score = df_school_data_complete['reading_score'].mean()\n",
    "\n",
    "#Percentage of students with passing math score\n",
    "passing_math_score = df_school_data_complete[df_school_data_complete['math_score'] >= 70]\n",
    "math_score_count = passing_math_score['student_name'].count()\n",
    "passing_math_average = (math_score_count/total_student_sum)*100\n",
    "\n",
    "#Percentage of students with passing math score\n",
    "passing_reading_score = df_school_data_complete[df_school_data_complete['reading_score'] >= 70]\n",
    "reading_score_count = passing_reading_score['student_name'].count()\n",
    "passing_reading_average = (reading_score_count/total_student_sum)*100\n",
    "\n",
    "#Calculate the percentage of students that passed both math and reading\n",
    "overall_pass = (((math_score_count + reading_score_count)/total_student_sum)/2)*100\n",
    "\n",
    "#Create dataframe for the results\n",
    "summary = {'Total_Schools': [df_total_school_count],\n",
    "          'Total_Student': [total_student_sum],\n",
    "          'Total_Budget': [total_district_budget],\n",
    "          'Avg_Math_Score': [average_math_score],\n",
    "          'Avg_Reading_Score': [average_reading_score],\n",
    "          '%_Passing_Math': [passing_math_average],\n",
    "          '%_Passing_Reading': [passing_reading_average],\n",
    "          'Overall_Passing_Rate': [overall_pass]}\n",
    "summary\n",
    "\n",
    "district_summary = pd.DataFrame(summary)\n",
    "\n",
    "district_summary = district_summary[['Total_Schools',\n",
    "          'Total_Student',\n",
    "          'Total_Budget',\n",
    "          'Avg_Math_Score',\n",
    "          'Avg_Reading_Score',\n",
    "          '%_Passing_Math',\n",
    "          '%_Passing_Reading',\n",
    "          'Overall_Passing_Rate']]\n",
    "district_summary"
   ]
  },
  {
   "cell_type": "markdown",
   "metadata": {},
   "source": [
    "## School Summary"
   ]
  },
  {
   "cell_type": "markdown",
   "metadata": {},
   "source": [
    "* Create an overview table that summarizes key metrics about each school, including:\n",
    "  * School Name\n",
    "  * School Type\n",
    "  * Total Students\n",
    "  * Total School Budget\n",
    "  * Per Student Budget\n",
    "  * Average Math Score\n",
    "  * Average Reading Score\n",
    "  * % Passing Math\n",
    "  * % Passing Reading\n",
    "  * % Overall Passing (The percentage of students that passed math **and** reading.)\n",
    "  \n",
    "* Create a dataframe to hold the above results"
   ]
  },
  {
   "cell_type": "code",
   "execution_count": 26,
   "metadata": {},
   "outputs": [
    {
     "name": "stderr",
     "output_type": "stream",
     "text": [
      "<ipython-input-26-d84387e90dbf>:11: FutureWarning: Indexing with multiple keys (implicitly converted to a tuple of keys) will be deprecated, use a list instead.\n",
      "  avg_math_reading_pass = df_student_data.groupby(['school_name'])['reading_score','math_score'].mean().reset_index()\n"
     ]
    },
    {
     "data": {
      "text/html": [
       "<div>\n",
       "<style scoped>\n",
       "    .dataframe tbody tr th:only-of-type {\n",
       "        vertical-align: middle;\n",
       "    }\n",
       "\n",
       "    .dataframe tbody tr th {\n",
       "        vertical-align: top;\n",
       "    }\n",
       "\n",
       "    .dataframe thead th {\n",
       "        text-align: right;\n",
       "    }\n",
       "</style>\n",
       "<table border=\"1\" class=\"dataframe\">\n",
       "  <thead>\n",
       "    <tr style=\"text-align: right;\">\n",
       "      <th></th>\n",
       "      <th>School Type</th>\n",
       "      <th>Total Students</th>\n",
       "      <th>Per Student Budget</th>\n",
       "      <th>Total School Budget</th>\n",
       "      <th>Average Math Score</th>\n",
       "      <th>Average Reading Score</th>\n",
       "      <th>%Passing Math</th>\n",
       "      <th>%Passing Reading</th>\n",
       "      <th>%Overall Passing Rate</th>\n",
       "    </tr>\n",
       "  </thead>\n",
       "  <tbody>\n",
       "    <tr>\n",
       "      <th>school_name</th>\n",
       "      <td>&lt;class 'type'&gt;</td>\n",
       "      <td>0     2917\n",
       "1     2949\n",
       "2     1761\n",
       "3     4635\n",
       "4 ...</td>\n",
       "      <td>0     655.0\n",
       "1     639.0\n",
       "2     600.0\n",
       "3     652....</td>\n",
       "      <td>0     1910635\n",
       "1     1884411\n",
       "2     1056600\n",
       "3   ...</td>\n",
       "      <td>74.980853</td>\n",
       "      <td>85.805463</td>\n",
       "      <td>0     65.683922\n",
       "1     65.988471\n",
       "2     93.86712...</td>\n",
       "      <td>0     81.316421\n",
       "1     80.739234\n",
       "2     95.85462...</td>\n",
       "      <td>Huang High School        73.500171\n",
       "Figueroa Hi...</td>\n",
       "    </tr>\n",
       "  </tbody>\n",
       "</table>\n",
       "</div>"
      ],
      "text/plain": [
       "                School Type  \\\n",
       "school_name  <class 'type'>   \n",
       "\n",
       "                                                Total Students  \\\n",
       "school_name  0     2917\n",
       "1     2949\n",
       "2     1761\n",
       "3     4635\n",
       "4 ...   \n",
       "\n",
       "                                            Per Student Budget  \\\n",
       "school_name  0     655.0\n",
       "1     639.0\n",
       "2     600.0\n",
       "3     652....   \n",
       "\n",
       "                                           Total School Budget  \\\n",
       "school_name  0     1910635\n",
       "1     1884411\n",
       "2     1056600\n",
       "3   ...   \n",
       "\n",
       "             Average Math Score  Average Reading Score  \\\n",
       "school_name           74.980853              85.805463   \n",
       "\n",
       "                                                 %Passing Math  \\\n",
       "school_name  0     65.683922\n",
       "1     65.988471\n",
       "2     93.86712...   \n",
       "\n",
       "                                              %Passing Reading  \\\n",
       "school_name  0     81.316421\n",
       "1     80.739234\n",
       "2     95.85462...   \n",
       "\n",
       "                                         %Overall Passing Rate  \n",
       "school_name  Huang High School        73.500171\n",
       "Figueroa Hi...  "
      ]
     },
     "execution_count": 26,
     "metadata": {},
     "output_type": "execute_result"
    }
   ],
   "source": [
    "#Calculate budget per student then add a column\n",
    "df_school_data['Per Student Budget'] = df_school_data['budget']/df_school_data['size']\n",
    "budget_per_student = df_school_data['Per Student Budget']\n",
    "\n",
    "#Total budget per school\n",
    "total_students = df_school_data['size']\n",
    "#Total budget per school\n",
    "total_budget = df_school_data['budget']\n",
    "\n",
    "#Average math and reading scores per school\n",
    "avg_math_reading_pass = df_student_data.groupby(['school_name'])['reading_score','math_score'].mean().reset_index()\n",
    "avg_math_reading_pass\n",
    "\n",
    "\n",
    "#Combine the average_passing_math and average_passing_reading to the school dataframe\n",
    "df_school_data = df_school_data.merge(avg_math_reading_pass, on='school_name', how='outer')\n",
    "df_school_data\n",
    "\n",
    "#Remove school ID column\n",
    "#del df_school_data['School ID']\n",
    "\n",
    "\n",
    "#Sum of students with passing math score per school\n",
    "passing_math_school = df_student_data[df_student_data['math_score'] >= 70]\n",
    " \n",
    "total_passing_math_score = passing_math_school.groupby(['school_name'])['math_score'].count().reset_index()\n",
    "\n",
    "\n",
    "#Sum of students with passing reading score per school\n",
    "passing_reading_school = student_data[student_data['reading_score'] >= 70]\n",
    "\n",
    "total_passing_reading_score = passing_reading_school.groupby(['school_name'])['reading_score'].count().reset_index()\n",
    "\n",
    "\n",
    "#Combine the average_passing_math and average_passing_reading to the school dataframe\n",
    "mr_passing_total = total_passing_math_score.merge(total_passing_reading_score,on='school_name',how='inner')\n",
    "\n",
    "mr_passing_total_new = mr_passing_total.rename(columns = {'math_score':'math_total', 'reading_score':'reading_total' })\n",
    "\n",
    "\n",
    "# ---> Merge passing count to school data dataframe\n",
    "df_school_summary = df_school_data.merge(mr_passing_total_new,on='school_name',how='outer')\n",
    "\n",
    "\n",
    "#Percentage passing math \n",
    "df_school_summary['% Passing Math'] = (df_school_summary['math_total']/df_school_summary['size'])*100\n",
    "passing_math = df_school_summary['% Passing Math']\n",
    "\n",
    "#Percentage passing reading\n",
    "df_school_summary['% Passing Reading'] = (df_school_summary['reading_total']/df_school_summary['size'])*100\n",
    "passing_reading = df_school_summary['% Passing Reading']\n",
    "\n",
    "\n",
    "#Remove math and reading total columns\n",
    "del df_school_summary['math_total']\n",
    "del df_school_summary['reading_total']\n",
    "\n",
    "#Reset index\n",
    "df_school_summary = df_school_summary.set_index('school_name')\n",
    "df_school_summary.index.name = None\n",
    "\n",
    "# ---> Calculate the % Overall Passing Rate (Average of % Passing math and reading) and add Overall Passing Rate series to the dataframe\n",
    "df_school_summary['% Overall Passing Rate'] = (df_school_summary['% Passing Math'] + df_school_summary['% Passing Reading'])/2\n",
    "overall_passing_rate = df_school_summary['% Overall Passing Rate']\n",
    "\n",
    "# ---> Rename math_score and reading_score to Average... accordingly\n",
    "final_df_school_summary = df_school_summary.rename(columns = {'school_name':'','type':'School Type','size':'Total Students','budget':'Total School Budget','math_score':'Average Math Score', 'reading_score':'Average Reading Score' })\n",
    "\n",
    "#Dictionary to hold lists created \n",
    "district = {'School Type': [type],\n",
    "     'Total Students': [total_students],\n",
    "     'Per Student Budget':[budget_per_student],\n",
    "     'Total School Budget':[total_budget],\n",
    "     'Average Math Score':[passing_math_average],\n",
    "     'Average Reading Score':[passing_reading_average],\n",
    "     '%Passing Math': [passing_math],\n",
    "     '%Passing Reading': [passing_reading],\n",
    "     '%Overall Passing Rate': [overall_passing_rate]}\n",
    "\n",
    "district\n",
    "#Dataframe to hold ditictionary\n",
    "district_summary = pd.DataFrame(district, index = ['school_name'])\n",
    "\n",
    "\n",
    "district_summary = district_summary[['School Type',\n",
    "               'Total Students',\n",
    "               'Per Student Budget',\n",
    "               'Total School Budget',\n",
    "               'Average Math Score',\n",
    "               'Average Reading Score',\n",
    "               '%Passing Math',\n",
    "               '%Passing Reading',\n",
    "               '%Overall Passing Rate']]\n",
    "district_summary"
   ]
  },
  {
   "cell_type": "markdown",
   "metadata": {},
   "source": [
    "## Top Performing Schools (By % Overall Passing)"
   ]
  },
  {
   "cell_type": "markdown",
   "metadata": {},
   "source": [
    "* Sort and display the top five performing schools by % overall passing."
   ]
  },
  {
   "cell_type": "code",
   "execution_count": null,
   "metadata": {
    "scrolled": true
   },
   "outputs": [],
   "source": []
  },
  {
   "cell_type": "markdown",
   "metadata": {},
   "source": [
    "## Bottom Performing Schools (By % Overall Passing)"
   ]
  },
  {
   "cell_type": "markdown",
   "metadata": {},
   "source": [
    "* Sort and display the five worst-performing schools by % overall passing."
   ]
  },
  {
   "cell_type": "code",
   "execution_count": null,
   "metadata": {},
   "outputs": [],
   "source": []
  },
  {
   "cell_type": "markdown",
   "metadata": {
    "collapsed": true
   },
   "source": [
    "## Math Scores by Grade"
   ]
  },
  {
   "cell_type": "markdown",
   "metadata": {},
   "source": [
    "* Create a table that lists the average Reading Score for students of each grade level (9th, 10th, 11th, 12th) at each school.\n",
    "\n",
    "  * Create a pandas series for each grade. Hint: use a conditional statement.\n",
    "  \n",
    "  * Group each series by school\n",
    "  \n",
    "  * Combine the series into a dataframe\n",
    "  \n",
    "  * Optional: give the displayed data cleaner formatting"
   ]
  },
  {
   "cell_type": "code",
   "execution_count": null,
   "metadata": {},
   "outputs": [],
   "source": []
  },
  {
   "cell_type": "markdown",
   "metadata": {},
   "source": [
    "## Reading Score by Grade "
   ]
  },
  {
   "cell_type": "markdown",
   "metadata": {},
   "source": [
    "* Perform the same operations as above for reading scores"
   ]
  },
  {
   "cell_type": "code",
   "execution_count": null,
   "metadata": {},
   "outputs": [],
   "source": []
  },
  {
   "cell_type": "markdown",
   "metadata": {},
   "source": [
    "## Scores by School Spending"
   ]
  },
  {
   "cell_type": "markdown",
   "metadata": {},
   "source": [
    "* Create a table that breaks down school performances based on average Spending Ranges (Per Student). Use 4 reasonable bins to group school spending. Include in the table each of the following:\n",
    "  * Average Math Score\n",
    "  * Average Reading Score\n",
    "  * % Passing Math\n",
    "  * % Passing Reading\n",
    "  * Overall Passing Rate (Average of the above two)"
   ]
  },
  {
   "cell_type": "code",
   "execution_count": null,
   "metadata": {},
   "outputs": [],
   "source": []
  },
  {
   "cell_type": "markdown",
   "metadata": {},
   "source": [
    "## Scores by School Size"
   ]
  },
  {
   "cell_type": "markdown",
   "metadata": {},
   "source": [
    "* Perform the same operations as above, based on school size."
   ]
  },
  {
   "cell_type": "code",
   "execution_count": null,
   "metadata": {
    "scrolled": true
   },
   "outputs": [],
   "source": []
  },
  {
   "cell_type": "markdown",
   "metadata": {},
   "source": [
    "## Scores by School Type"
   ]
  },
  {
   "cell_type": "markdown",
   "metadata": {},
   "source": [
    "* Perform the same operations as above, based on school type"
   ]
  },
  {
   "cell_type": "code",
   "execution_count": null,
   "metadata": {},
   "outputs": [],
   "source": []
  },
  {
   "cell_type": "code",
   "execution_count": null,
   "metadata": {},
   "outputs": [],
   "source": []
  }
 ],
 "metadata": {
  "anaconda-cloud": {},
  "kernel_info": {
   "name": "python3"
  },
  "kernelspec": {
   "display_name": "Python 3",
   "language": "python",
   "name": "python3"
  },
  "language_info": {
   "codemirror_mode": {
    "name": "ipython",
    "version": 3
   },
   "file_extension": ".py",
   "mimetype": "text/x-python",
   "name": "python",
   "nbconvert_exporter": "python",
   "pygments_lexer": "ipython3",
   "version": "3.8.3"
  },
  "latex_envs": {
   "LaTeX_envs_menu_present": true,
   "autoclose": false,
   "autocomplete": true,
   "bibliofile": "biblio.bib",
   "cite_by": "apalike",
   "current_citInitial": 1,
   "eqLabelWithNumbers": true,
   "eqNumInitial": 1,
   "hotkeys": {
    "equation": "Ctrl-E",
    "itemize": "Ctrl-I"
   },
   "labels_anchors": false,
   "latex_user_defs": false,
   "report_style_numbering": false,
   "user_envs_cfg": false
  },
  "nteract": {
   "version": "0.8.4"
  }
 },
 "nbformat": 4,
 "nbformat_minor": 1
}
